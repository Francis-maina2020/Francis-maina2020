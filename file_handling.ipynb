{
  "nbformat": 4,
  "nbformat_minor": 0,
  "metadata": {
    "colab": {
      "provenance": [],
      "authorship_tag": "ABX9TyM+qLHDK4kwRttf0LCmFtsl",
      "include_colab_link": true
    },
    "kernelspec": {
      "name": "python3",
      "display_name": "Python 3"
    },
    "language_info": {
      "name": "python"
    }
  },
  "cells": [
    {
      "cell_type": "markdown",
      "metadata": {
        "id": "view-in-github",
        "colab_type": "text"
      },
      "source": [
        "<a href=\"https://colab.research.google.com/github/Francis-maina2020/Francis-maina2020/blob/main/file_handling.ipynb\" target=\"_parent\"><img src=\"https://colab.research.google.com/assets/colab-badge.svg\" alt=\"Open In Colab\"/></a>"
      ]
    },
    {
      "cell_type": "markdown",
      "source": [
        "#File Handling\n",
        "Creating, reading, updating and deleting files using python.\n",
        "\n",
        "Why file handling? automation in file operations and managements."
      ],
      "metadata": {
        "id": "jXNl_3_MFGLf"
      }
    },
    {
      "cell_type": "markdown",
      "source": [
        "Use of the open() funtion to open the file. It takes atleast two arguments, 1. filename and 2. mode but the mode argument can be optional- because it has a default parameter.\n",
        "Modes are the different methods for opening a file.\n",
        "\n",
        "\n",
        "*   \"r\" - Read - Default\n",
        "*   \"a\" - Append\n",
        "*   \"w\" - Write\n",
        "*   \"x\" - Create\n",
        "\n",
        "Also, one can open  file as either a text \"t\" or in binary mode \"b\"\n",
        "A combination o this different modes is possible.\n",
        "\n"
      ],
      "metadata": {
        "id": "Pc_BCdh_FcDe"
      }
    },
    {
      "cell_type": "markdown",
      "source": [
        "##Creating a file\n",
        "*  \"x\" - Create - will create a file, returns an error if the file exist\n",
        "\n",
        "*  \"a\" - Append - will create a file if the specified file does not exist\n",
        "\n",
        "*  \"w\" - Write - will create a file if the specified file does not exist"
      ],
      "metadata": {
        "id": "A9Nw6NMqKPEx"
      }
    },
    {
      "cell_type": "code",
      "source": [
        "f = open(\"myfile.txt\", \"x\")\n"
      ],
      "metadata": {
        "id": "m-NPhjkOKaB3"
      },
      "execution_count": null,
      "outputs": []
    },
    {
      "cell_type": "code",
      "execution_count": null,
      "metadata": {
        "id": "XWXiTgkSE5bU"
      },
      "outputs": [],
      "source": [
        "#Syntax\n",
        "with open (\"demo.txt\", \"w\") as file1:\n",
        "  file1.write(\"Welcome X 2\")\n",
        "\n"
      ]
    },
    {
      "cell_type": "markdown",
      "source": [
        "##File reading\n",
        "Use of the read() function"
      ],
      "metadata": {
        "id": "s34ueLJTGeR8"
      }
    },
    {
      "cell_type": "code",
      "source": [
        "f = open('demo.txt')\n",
        "print(f.read())\n",
        "\n",
        "\n"
      ],
      "metadata": {
        "colab": {
          "base_uri": "https://localhost:8080/"
        },
        "id": "WdbTCp51Gisa",
        "outputId": "d6a4ea9b-ab2f-446b-8b3d-92340ddb1b03"
      },
      "execution_count": null,
      "outputs": [
        {
          "output_type": "stream",
          "name": "stdout",
          "text": [
            "Welcome X 2\n",
            "welcome again\n",
            "welcome home\n",
            "Karibu nyumbani\n",
            "Feel at home.\n"
          ]
        }
      ]
    },
    {
      "cell_type": "markdown",
      "source": [
        "Reading a portion"
      ],
      "metadata": {
        "id": "xyv_VCmeGyvU"
      }
    },
    {
      "cell_type": "code",
      "source": [
        "#Returns the first 5 characterss\n",
        "f = open('demo.txt')\n",
        "#print(f.read(11))\n",
        "\n",
        "#Reading lines\n",
        "print(f.readline())  #reads the first line\n",
        "print(f.readline())\n",
        "#make two of the above lines returns the first 2 lines"
      ],
      "metadata": {
        "colab": {
          "base_uri": "https://localhost:8080/"
        },
        "id": "EnrfeYhpG1oB",
        "outputId": "10433fc6-880d-412f-93ee-c8622d7e4d0e"
      },
      "execution_count": null,
      "outputs": [
        {
          "output_type": "stream",
          "name": "stdout",
          "text": [
            "Welcome X 2\n",
            "\n",
            "welcome again\n",
            "\n"
          ]
        }
      ]
    },
    {
      "cell_type": "code",
      "source": [
        "f = open('demo.txt')\n",
        "# Looping through the file line by line, use a for loop.\n",
        "for x in f:\n",
        "  print(x)"
      ],
      "metadata": {
        "id": "VOumWOGXHUcW"
      },
      "execution_count": null,
      "outputs": []
    },
    {
      "cell_type": "code",
      "source": [
        "#Closing a file, use the close() function\n",
        "f.close()"
      ],
      "metadata": {
        "id": "PjEzO8oeHxOc"
      },
      "execution_count": null,
      "outputs": []
    },
    {
      "cell_type": "markdown",
      "source": [
        "## Writing to an existing file\n",
        "\n",
        "We open the file in the append mode.\n",
        "\n"
      ],
      "metadata": {
        "id": "0n7SJKu7H6KC"
      }
    },
    {
      "cell_type": "code",
      "source": [
        "#Appending to the file\n"
      ],
      "metadata": {
        "id": "oNFciC0gIBA8"
      },
      "execution_count": null,
      "outputs": []
    },
    {
      "cell_type": "code",
      "source": [
        "f = open(\"dem.txt\",\"a\")\n",
        "f.writelines('Message\\'s\\n')\n",
        "f.write(\"new\\n\")\n",
        "f.close\n",
        "\n",
        "#Check if appended by reading the file\n",
        "f = open(\"dem.txt\", \"r\")\n",
        "f.read()"
      ],
      "metadata": {
        "id": "1wteq8NqSHtA",
        "colab": {
          "base_uri": "https://localhost:8080/",
          "height": 35
        },
        "outputId": "71c0273f-db6d-448e-a8c3-3342f10d2953"
      },
      "execution_count": null,
      "outputs": [
        {
          "output_type": "execute_result",
          "data": {
            "text/plain": [
              "\"Message's\\nnew\\nMessage's\\nnew\\n\""
            ],
            "application/vnd.google.colaboratory.intrinsic+json": {
              "type": "string"
            }
          },
          "metadata": {},
          "execution_count": 24
        }
      ]
    },
    {
      "cell_type": "markdown",
      "source": [
        "#Deleting a file"
      ],
      "metadata": {
        "id": "kbCaBlwDKnFc"
      }
    },
    {
      "cell_type": "code",
      "source": [
        "import os\n",
        "os.remove('myfile.txt')"
      ],
      "metadata": {
        "id": "JrXPWiWxKmgg"
      },
      "execution_count": null,
      "outputs": []
    },
    {
      "cell_type": "code",
      "source": [
        "#checking if the file exists before deleting\n",
        "\n",
        "import os\n",
        "if os.path.exists(\"myfile.txt\"):\n",
        "  os.remove(\"myfile.txt\")\n",
        "else:\n",
        "  print(\"the file does not exist\")"
      ],
      "metadata": {
        "id": "Z3UlnSdkLAkw",
        "colab": {
          "base_uri": "https://localhost:8080/"
        },
        "outputId": "59abf32b-4012-4ac6-d6e2-236d714fe498"
      },
      "execution_count": null,
      "outputs": [
        {
          "output_type": "stream",
          "name": "stdout",
          "text": [
            "the file does not exist\n"
          ]
        }
      ]
    },
    {
      "cell_type": "markdown",
      "source": [
        "#More"
      ],
      "metadata": {
        "id": "ndXe0aK_FcW4"
      }
    },
    {
      "cell_type": "code",
      "source": [
        "# Program to show various ways to read and\n",
        "# write data in a text file.\n",
        "\n",
        "file = open(\"myfile.txt\",\"w\")\n",
        "L = [\"This is Nairobi \\n\",\"This is Python \\n\",\"This is Nai \\n\"]\n",
        "\n",
        "#i assigned [\"This is Lagos \\n\",\"This is Python \\n\",\"This is Fcc \\n\"]\n",
        "#to variable L\n",
        "\n",
        "#The \\n is placed to indicate End of Line\n",
        "\n",
        "file.write(\"Hello There \\n\")\n",
        "file.writelines(L)\n",
        "file.close()\n",
        "# use the close() to change file access modes\n",
        "\n",
        "\n",
        "\n",
        "file = open(\"myfile.txt\",\"r+\")\n",
        "print(\"Output of the Read function is \")\n",
        "print(file.read())\n",
        "print()\n",
        "\n",
        "# The seek(n) takes the file handle to the nth\n",
        "# byte from the start.\n",
        "file.seek(0)\n",
        "\n",
        "print( \"The output of the Readline function is \")\n",
        "print(file.readline())\n",
        "print(file.readline())\n",
        "print()\n",
        "\n",
        "file.seek(0)\n",
        "\n",
        "# To show difference between read and readline\n",
        "\n",
        "print(\"Output of Read(12) function is \")\n",
        "print(file.read(12))\n",
        "print()\n",
        "\n",
        "file.seek(0)\n",
        "\n",
        "print(\"Output of Readline(8) function is \")\n",
        "print(file.readline(8))\n",
        "print(file.readline(8))\n",
        "\n",
        "file.seek(0)\n",
        "# readlines function\n",
        "print(\"Output of Readlines function is \")\n",
        "print(file.readlines())\n",
        "print()\n",
        "file.close()\n",
        "\n"
      ],
      "metadata": {
        "id": "Ajpsx5xzFgEx",
        "colab": {
          "base_uri": "https://localhost:8080/"
        },
        "outputId": "5a32a274-9c14-4a7d-e174-9929f45dd703"
      },
      "execution_count": null,
      "outputs": [
        {
          "output_type": "stream",
          "name": "stdout",
          "text": [
            "Output of the Read function is \n",
            "Hello There \n",
            "This is Nairobi \n",
            "This is Python \n",
            "This is Nai \n",
            "\n",
            "\n",
            "The output of the Readline function is \n",
            "Hello There \n",
            "\n",
            "This is Nairobi \n",
            "\n",
            "\n",
            "Output of Read(12) function is \n",
            "Hello There \n",
            "\n",
            "Output of Readline(8) function is \n",
            "Hello Th\n",
            "ere \n",
            "\n",
            "Output of Readlines function is \n",
            "['Hello There \\n', 'This is Nairobi \\n', 'This is Python \\n', 'This is Nai \\n']\n",
            "\n"
          ]
        }
      ]
    },
    {
      "cell_type": "markdown",
      "source": [
        "#***Additional Resources***\n",
        "https://realpython.com/working-with-files-in-python/"
      ],
      "metadata": {
        "id": "wgit29j7ilgs"
      }
    }
  ]
}